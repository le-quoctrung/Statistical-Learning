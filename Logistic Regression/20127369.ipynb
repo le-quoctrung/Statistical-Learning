{
 "cells": [
  {
   "cell_type": "markdown",
   "metadata": {},
   "source": [
    "### Student id: 20237369\n",
    "### Student name: Le Quoc Trung"
   ]
  },
  {
   "cell_type": "code",
   "execution_count": 28,
   "metadata": {},
   "outputs": [],
   "source": [
    "import map_feature\n",
    "\n",
    "import json\n",
    "import pandas as pd\n",
    "import numpy as np"
   ]
  },
  {
   "cell_type": "code",
   "execution_count": 29,
   "metadata": {},
   "outputs": [],
   "source": [
    "def read_data(filename):\n",
    "    df = pd.read_csv('training_data.txt', names=['0', '1', '2'])\n",
    "    df.head()\n",
    "    X = df[['0', '1']]\n",
    "    X = X.to_numpy()\n",
    "    X_train = map_feature.map_feature(X[:,0], X[:,1])\n",
    "    Y_train = df['2'].to_numpy()\n",
    "\n",
    "    return X_train, Y_train"
   ]
  },
  {
   "cell_type": "code",
   "execution_count": 30,
   "metadata": {},
   "outputs": [],
   "source": [
    "class LogisticRegression:\n",
    "    def __init__(self, alpha=0.01, iters=1000, lamda=0.0, verbose=False):\n",
    "        self.alpha = alpha\n",
    "        self.iters = iters\n",
    "        self.lamda = lamda\n",
    "        self.verbose = verbose\n",
    "        self.theta = None\n",
    "\n",
    "    def sigmoid(self, z):\n",
    "        return 1 / (1 + np.exp(-z))\n",
    "\n",
    "    def compute_cost(self, X, y):\n",
    "        m = len(y)\n",
    "        h_theta = self.sigmoid(np.dot(X, theta))\n",
    "        J = -1/m * np.sum(y * np.log(h_theta) + (1 - y) * np.log(1 - h_theta))\n",
    "        reg_term = (self.lamda / (2 * m)) * np.sum(theta[1:]**2)  \n",
    "        J += reg_term\n",
    "        return J\n",
    "\n",
    "    def compute_gradient(self, X, y, theta):\n",
    "        m = len(y)\n",
    "        h_theta = self.sigmoid(np.dot(X, theta))\n",
    "        loss = h_theta - y\n",
    "        dJ = np.dot(X.T, loss) / m\n",
    "\n",
    "        reg_term = (self.lamda / m) * theta[1:]\n",
    "        dJ[1:] += reg_term\n",
    "\n",
    "        return dJ\n",
    "\n",
    "    def gradient_descent(self, X, y):\n",
    "        X = np.c_[np.ones(len(X)), X]\n",
    "        num_features = X.shape[1]\n",
    "        self.theta = np.zeros(num_features)\n",
    "        \n",
    "        if self.verbose:\n",
    "            print(f'The total of training samples: {len(y)}')\n",
    "\n",
    "        for i in range(self.iters):\n",
    "            dJ = self.compute_gradient(X, y, self.theta)\n",
    "            self.theta -= self.alpha * dJ\n",
    "\n",
    "            if self.verbose:\n",
    "                cost = self.compute_cost(X, y, self.theta)\n",
    "                print(f'Iter {i + 1}, cost = {cost}')\n",
    "                \n",
    "    def fit(self, X, y):\n",
    "        self.gradient_descent(X, y)\n",
    "\n",
    "    def predict(self, X):\n",
    "        X_with_bias = np.c_[np.ones(len(X)), X]\n",
    "        probabilities = self.sigmoid(np.dot(X_with_bias, self.theta))\n",
    "        predictions = (probabilities >= 0.5).astype(int)\n",
    "        return predictions\n",
    "    \n",
    "    def evaluate(self, X, y):\n",
    "        predictions = self.predict(X)\n",
    "        accuracy = np.mean(predictions == y)\n",
    "        precision = np.sum((predictions == 1) & (y == 1)) / np.sum(predictions == 1)\n",
    "        recall = np.sum((predictions == 1) & (y == 1)) / np.sum(y == 1)\n",
    "        f1_score = 2 * (precision * recall) / (precision + recall)\n",
    "        return accuracy, precision, recall, f1_score"
   ]
  },
  {
   "cell_type": "code",
   "execution_count": 31,
   "metadata": {},
   "outputs": [],
   "source": [
    "def read_config(file_path):\n",
    "    with open(file_path, 'r') as file:\n",
    "        config = json.load(file)\n",
    "        \n",
    "    alpha = config[\"Alpha\"]\n",
    "    lamda = config[\"Lambda\"]\n",
    "    num_iterations = config[\"NumIter\"]\n",
    "\n",
    "    return alpha, lamda, num_iterations"
   ]
  },
  {
   "cell_type": "code",
   "execution_count": 32,
   "metadata": {},
   "outputs": [],
   "source": [
    "def save_model(model, file_path):\n",
    "    with open(file_path, 'w') as file:\n",
    "        json.dump(model.theta.tolist(), file)\n",
    "\n",
    "def save_report(report, file_path):\n",
    "    with open(file_path, 'w') as file:\n",
    "        json.dump(report, file)"
   ]
  },
  {
   "cell_type": "code",
   "execution_count": 36,
   "metadata": {},
   "outputs": [],
   "source": [
    "config_file = 'config.json'\n",
    "data_file = 'training_data.txt'\n",
    "\n",
    "alpha, lamda, iters = read_config(config_file)\n",
    "X_train, Y_train = read_data(data_file)"
   ]
  },
  {
   "cell_type": "code",
   "execution_count": 37,
   "metadata": {},
   "outputs": [],
   "source": [
    "model = LogisticRegression(alpha=alpha, iters=iters, lamda=lamda)\n",
    "model.fit(X_train, Y_train)"
   ]
  },
  {
   "cell_type": "code",
   "execution_count": 38,
   "metadata": {},
   "outputs": [
    {
     "name": "stdout",
     "output_type": "stream",
     "text": [
      "Training Accuracy: 0.8305084745762712\n",
      "Training Precision: 0.7794117647058824\n",
      "Training Recall: 0.9137931034482759\n",
      "Training F1-score: 0.8412698412698414\n"
     ]
    }
   ],
   "source": [
    "model_file_path = 'model.json'\n",
    "save_model(model, model_file_path)\n",
    "\n",
    "accuracy, precision, recall, f1_score = model.evaluate(X_train, Y_train)\n",
    "\n",
    "classification_report = {\n",
    "    \"Accuracy\": accuracy,\n",
    "    \"Precision\": precision,\n",
    "    \"Recall\": recall,\n",
    "    \"F1-score\": f1_score\n",
    "}\n",
    "classification_report_file_path = 'classification_report.json'\n",
    "save_report(classification_report, classification_report_file_path)\n",
    "\n",
    "print(\"Training Accuracy:\", accuracy)\n",
    "print(\"Training Precision:\", precision)\n",
    "print(\"Training Recall:\", recall)\n",
    "print(\"Training F1-score:\", f1_score)"
   ]
  }
 ],
 "metadata": {
  "kernelspec": {
   "display_name": "base",
   "language": "python",
   "name": "python3"
  },
  "language_info": {
   "codemirror_mode": {
    "name": "ipython",
    "version": 3
   },
   "file_extension": ".py",
   "mimetype": "text/x-python",
   "name": "python",
   "nbconvert_exporter": "python",
   "pygments_lexer": "ipython3",
   "version": "3.10.12"
  },
  "orig_nbformat": 4
 },
 "nbformat": 4,
 "nbformat_minor": 2
}
